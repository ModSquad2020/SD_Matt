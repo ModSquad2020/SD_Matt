{
 "cells": [
  {
   "cell_type": "markdown",
   "metadata": {},
   "source": [
    "# Plan\n",
    "Want to generate jackknife model data. \n",
    "\n",
    "## Parameters/Inputs/Outputs\n",
    "input:\n",
    "    1. Input henry's csv file with bacteria\n",
    "    2. Output file name\n",
    "    3. % in training set\n",
    "    \n",
    "output:\n",
    "    1. Dictionary (or file) with training dataset + validation dataset\n",
    "    \n",
    "## How to accomplish it\n",
    "Seperate into isotype buckets. \n",
    "Then make liberal use of random.sample()\n",
    "    * if no items in bucket pick None\n",
    "    * if one item in bucket 50% chance of picking\n",
    "    * if 80% cannot be chosen (because there are less than 5 options)\n",
    "    pick floor(.8*num)\n",
    "    * if 80% can be chosen just draw 80%\n"
   ]
  },
  {
   "cell_type": "code",
   "execution_count": 40,
   "metadata": {},
   "outputs": [],
   "source": [
    "# user inputs\n",
    "testPercent = 0.8\n",
    "randomSeed = 11\n",
    "inputFileName = 'henry_improved_curatedBacteria.csv'\n",
    "outputFileName = 'lactococcus_jackknife_set.csv'"
   ]
  },
  {
   "cell_type": "code",
   "execution_count": 20,
   "metadata": {},
   "outputs": [],
   "source": [
    "import pandas as pd\n",
    "import numpy as np\n",
    "import functools\n",
    "import random\n",
    "import math\n",
    "\n",
    "random.seed(randomSeed)\n",
    "\n",
    "def conjunction(*conditions):\n",
    "    return functools.reduce(np.logical_and, conditions)\n",
    "def orLogical(*conditions):\n",
    "    return functools.reduce(np.logical_or, conditions)\n",
    "\n",
    "pd.set_option('display.max_columns', None)\n",
    "#pd.set_option('display.max_rows', None)\n",
    "pd.set_option('display.max_colwidth', None)\n",
    "\n",
    "#df = pd.read_csv('bacteria_with_position_46_m7G.csv', delimiter=',')\n",
    "df = pd.read_csv(inputFileName, delimiter=',')"
   ]
  },
  {
   "cell_type": "markdown",
   "metadata": {},
   "source": [
    "# Lets make our buckets"
   ]
  },
  {
   "cell_type": "code",
   "execution_count": 10,
   "metadata": {},
   "outputs": [],
   "source": [
    "# So now we have total bins of isotypes, lets get bins across all species\n",
    "# for amounts of isotypes positive for m7G at position 46\n",
    "isotypeNames = [\"Ini\",'Ala','Arg','Asn','Asp','Cys', 'Gln', 'Glu', 'Gly',\n",
    " 'His', 'Ile', 'Leu', 'Lys', 'Met', 'Phe', 'Pro', 'Ser',\n",
    " 'Thr', 'Trp', 'Tyr', 'Val']\n",
    "\n",
    "fullDataSet = {isotype:list() for isotype in isotypeNames}\n",
    "\n",
    "testDataSet = pd.DataFrame() # will contain [ [fullname, isotype, isodecoder, \n",
    "                                # isoacceptor, unaligned_sequence] ... ]\n",
    "validationDataSet = [] # will contain same info as above\n",
    "\n",
    "\n",
    "for name in isotypeNames:\n",
    "    isotypeFilter = df.Isotype == name\n",
    "    poolToChooseFrom = df[isotypeFilter].shape[0]\n",
    "    \n",
    "    if poolToChooseFrom != 1:\n",
    "        numberOfSamples = math.floor(testPercent*poolToChooseFrom)\n",
    "        fullDataSet[name] = df[isotypeFilter].sample(n=numberOfSamples, replace=False, random_state=randomSeed)\n",
    "    else:\n",
    "        if random.randint(0,1) == 0:\n",
    "            fullDataSet[name] = df[isotypeFilter]\n",
    "        else:\n",
    "            fullDataSet[name] = pd.DataFrame()\n",
    " \n",
    "     \n",
    "for isotype, sampled_frame in fullDataSet.items():\n",
    "   # print(type(testDataSet), type(sampled_frame))\n",
    "    testDataSet = pd.concat( [testDataSet, sampled_frame], ignore_index=True, sort=False )"
   ]
  },
  {
   "cell_type": "markdown",
   "metadata": {},
   "source": [
    "# Positive_Set"
   ]
  },
  {
   "cell_type": "code",
   "execution_count": 11,
   "metadata": {},
   "outputs": [],
   "source": [
    "testDataSet.to_csv(\"positive_\"+outputFileName,index=False)"
   ]
  },
  {
   "cell_type": "markdown",
   "metadata": {},
   "source": [
    "# Negative_set"
   ]
  },
  {
   "cell_type": "code",
   "execution_count": 12,
   "metadata": {},
   "outputs": [],
   "source": [
    "validationDataSet=pd.concat([df,testDataSet]).drop_duplicates(keep=False)\n",
    "validationDataSet.to_csv(\"negative_\"+outputFileName,index=False)"
   ]
  },
  {
   "cell_type": "markdown",
   "metadata": {},
   "source": [
    "# =====\n",
    "# =====\n",
    "# =====\n",
    "# No bucket method"
   ]
  },
  {
   "cell_type": "code",
   "execution_count": 41,
   "metadata": {},
   "outputs": [],
   "source": [
    "########################################\n",
    "########################################\n",
    "# Lets do raw 10/90 split of lactococcus\n",
    "########################################\n",
    "########################################\n",
    "lactoFilter = df['species_name'] == 'Lactococcus_lactis'\n",
    "df = df[lactoFilter]\n",
    "\n",
    "\n",
    "#Get the number of samples to put into the test DATASET\n",
    "poolToChooseFrom = df.shape[0]\n",
    "numberOfSamples = math.floor(testPercent*poolToChooseFrom)\n",
    "\n",
    "#Generate the test dataset by just grabbing p% from the input pool of tRNAs\n",
    "testDataSet = df.sample(n=numberOfSamples, replace=False, random_state=randomSeed)\n",
    "\n",
    "#Generate the validation dataset by doing (wholeDATA - testDATA)\n",
    "validationDataSet = pd.validationDataSet=pd.concat([df,testDataSet]).drop_duplicates(keep=False)"
   ]
  },
  {
   "cell_type": "code",
   "execution_count": 38,
   "metadata": {},
   "outputs": [],
   "source": [
    "testDataSet.to_csv(\"positive_\"+outputFileName,index=False)\n",
    "testDataSet.shape"
   ]
  },
  {
   "cell_type": "code",
   "execution_count": 39,
   "metadata": {},
   "outputs": [],
   "source": [
    "validationDataSet.to_csv(\"negative_\"+outputFileName,index=False)\n",
    "validationDataSet.shape"
   ]
  },
  {
   "cell_type": "code",
   "execution_count": null,
   "metadata": {},
   "outputs": [],
   "source": []
  }
 ],
 "metadata": {
  "kernelspec": {
   "display_name": "Python 3",
   "language": "python",
   "name": "python3"
  },
  "language_info": {
   "codemirror_mode": {
    "name": "ipython",
    "version": 3
   },
   "file_extension": ".py",
   "mimetype": "text/x-python",
   "name": "python",
   "nbconvert_exporter": "python",
   "pygments_lexer": "ipython3",
   "version": "3.8.3"
  }
 },
 "nbformat": 4,
 "nbformat_minor": 4
}
