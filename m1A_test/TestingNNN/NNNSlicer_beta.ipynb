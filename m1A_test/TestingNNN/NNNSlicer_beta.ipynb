{
 "cells": [
  {
   "cell_type": "markdown",
   "metadata": {},
   "source": [
    "To work this needs the \n",
    "- Secondary structure of aligned tRNAs.\n",
    "- Aligned tRNAs\n",
    "- User specified sections (for now)\n",
    "\n",
    "Current issues:\n",
    "- I cut corners nad the loops regex picks up all the arms. Becasue of that if there are weird bubbles, they are skipped over I should fix this, but also I am a bit lazy atm\n",
    "- "
   ]
  },
  {
   "cell_type": "code",
   "execution_count": 1,
   "metadata": {},
   "outputs": [],
   "source": [
    "import re"
   ]
  },
  {
   "cell_type": "markdown",
   "metadata": {},
   "source": [
    "# Incredibly vital regular expressions that <br>pick up the different portions of the tRNA\n",
    "\n",
    "- startAA\n",
    "- endAA\n",
    "- loops\n",
    "- introns"
   ]
  },
  {
   "cell_type": "code",
   "execution_count": 202,
   "metadata": {},
   "outputs": [],
   "source": [
    "example_structures = ['(((((((,,<<<<___.___.__>>>>,<<<<<_______>>>>>,,...........,,,<<<<<_______>>>>>))))))):',\n",
    "                      '(((((((,,<<<<___.___.__>>>>,<<<<<______................................................._>>>>>,,..........,,,<<<<<_______>>>>>))))))):',\n",
    "                      '(((((((,,<<<<___.___.__>>>>,<<<<<_______>>>>>,,...........,,,))))))):'  \n",
    "                     ]\n",
    "startAA = re.compile(r'\\(+[^<>]{0,}')#r'\\(+.{0,}?<'\n",
    "\n",
    "endAA = re.compile(r'\\)+:')#r'.{1}\\)+'\n",
    "\n",
    "loops = re.compile(r'<+.{3,}?>+')\n",
    "\n",
    "introns = re.compile(r'[^<>]*\\.{3,}[^<>]*')\n",
    "\n",
    "\n",
    "patterns = [startAA,\n",
    "            endAA,\n",
    "            loops,\n",
    "            introns\n",
    "            \n",
    "            ]\n",
    "\n"
   ]
  },
  {
   "cell_type": "markdown",
   "metadata": {},
   "source": [
    "# The dictionary of lists that is populated by the spans\n",
    "\n",
    "## Intended use\n",
    "User says they want D-arm and T-arm regions.\n",
    "The code loops through turning each region\n",
    "NNN, unless it was specified then it leaves\n",
    "the sequence alone.\n",
    "\n",
    "## Example\n",
    "method('se--quence', 'T-arm', 'D-arm')  \n",
    "\n",
    "'se--quence'  \n",
    "\n",
    "'NN--quence'\n",
    "\n",
    "'NN--quNNce'"
   ]
  },
  {
   "cell_type": "code",
   "execution_count": 203,
   "metadata": {},
   "outputs": [],
   "source": [
    "alignedRegions = {  'AA-stem': [],\n",
    "                    'D-arm': [],\n",
    "                    'Anticodon loop': [],\n",
    "                    'Introns': [],\n",
    "                    'T-arm': []\n",
    "                 }"
   ]
  },
  {
   "cell_type": "markdown",
   "metadata": {},
   "source": [
    "## Actually populates the dictionary\n",
    "\n",
    "Note: will need to clear the dictionary every population cycle\n",
    "because otherwise it will keep adding to the same dictionary\n",
    "over and over again.  \n",
    "\n",
    "The solution can be as simple as just re-initializing it\n"
   ]
  },
  {
   "cell_type": "code",
   "execution_count": 204,
   "metadata": {},
   "outputs": [],
   "source": [
    "for n, pattern in enumerate(patterns):\n",
    "    #loops through the different regular expression patterns\n",
    "    matches = pattern.finditer(example_structures[1])\n",
    "    \n",
    "    for matchNum, match in enumerate(matches):\n",
    "        #loops through each match to the pattern\n",
    "        if n==0 or n==1:\n",
    "            alignedRegions['AA-stem'].append( match.span() )\n",
    "        elif n==2:\n",
    "            if matchNum==0:\n",
    "                alignedRegions['D-arm'].append( match.span() )\n",
    "            elif matchNum==1:\n",
    "                alignedRegions['Anticodon loop'].append( match.span() )\n",
    "            else:\n",
    "                alignedRegions['T-arm'].append( match.span() )\n",
    "        else:\n",
    "            alignedRegions['Introns'].append( match.span() )\n",
    "        \n",
    "            \n"
   ]
  },
  {
   "cell_type": "code",
   "execution_count": 205,
   "metadata": {},
   "outputs": [
    {
     "name": "stdout",
     "output_type": "stream",
     "text": [
      "{'AA-stem': [(0, 9), (126, 134)], 'D-arm': [(9, 27)], 'Anticodon loop': [(28, 94)], 'Introns': [(33, 89), (94, 109)], 'T-arm': [(109, 126)]}\n"
     ]
    }
   ],
   "source": [
    "print(alignedRegions)"
   ]
  },
  {
   "cell_type": "code",
   "execution_count": 206,
   "metadata": {},
   "outputs": [
    {
     "data": {
      "text/plain": [
       "True"
      ]
     },
     "execution_count": 206,
     "metadata": {},
     "output_type": "execute_result"
    }
   ],
   "source": [
    "def properShape(ar):\n",
    "    '''Returns True if the dictionary has the proper shape of a tRNA'''\n",
    "    a = len( ar['AA-stem'] ) == 2\n",
    "    b = len( ar['D-arm'] ) == 1\n",
    "    c = len( ar['Anticodon loop'] ) == 1\n",
    "    d = len( ar['T-arm'] ) == 1\n",
    "    return a and b and c and d\n",
    "\n",
    "properShape(alignedRegions)"
   ]
  },
  {
   "cell_type": "markdown",
   "metadata": {},
   "source": [
    "# Puts the dictionary into a list"
   ]
  },
  {
   "cell_type": "code",
   "execution_count": 207,
   "metadata": {},
   "outputs": [
    {
     "name": "stdout",
     "output_type": "stream",
     "text": [
      "[(0, 9), (9, 27), (28, 94), (33, 89), (94, 109), (109, 126), (126, 134)]\n"
     ]
    }
   ],
   "source": [
    "orderRegion = []\n",
    "for key, value in alignedRegions.items():\n",
    "    for rang in value:\n",
    "        orderRegion.append(rang)#example_structures[0][rang[0] : rang[1]]\n",
    "        \n",
    "print(sorted(orderRegion))\n",
    "orderRegion.sort()"
   ]
  },
  {
   "cell_type": "markdown",
   "metadata": {},
   "source": [
    "# Makes the list into the SS"
   ]
  },
  {
   "cell_type": "code",
   "execution_count": 208,
   "metadata": {},
   "outputs": [
    {
     "name": "stdout",
     "output_type": "stream",
     "text": [
      "(((((((,,<<<<___.___.__>>>><<<<<______................................................._>>>>>,,..........,,,<<<<<_______>>>>>))))))):\n",
      " (((((((,,<<<<___.___.__>>>>,<<<<<______................................................._>>>>>,,..........,,,<<<<<_______>>>>>))))))):\n"
     ]
    }
   ],
   "source": [
    "previous=(-1,-1)\n",
    "for rang in orderRegion:\n",
    "    if previous and rang[0] not in range(previous[0], previous[1]):\n",
    "        print( example_structures[1][rang[0] : rang[1]] , end='' )\n",
    "    previous = rang\n",
    "    \n",
    "print('\\n', example_structures[1])"
   ]
  },
  {
   "cell_type": "code",
   "execution_count": 209,
   "metadata": {},
   "outputs": [],
   "source": [
    "class CreateWindows:\n",
    "    '''Given a single sequence this will convert it into just the regions we are interested in'''\n",
    "    import re\n",
    "    startAA = re.compile(r'\\(+[^<>]{0,}')#r'\\(+.{0,}?<'\n",
    "    endAA = re.compile(r'\\)+:')#r'.{1}\\)+'\n",
    "    loops = re.compile(r'<+.{3,}?>+')\n",
    "    introns = re.compile(r'[^<>]*\\.{3,}[^<>]*')\n",
    "    patterns = [startAA, endAA, loops, introns]\n",
    "\n",
    "    \n",
    "    def __init__(self, secondaryStructure, sequence='', desiredRegions=['AA-stem','D-arm','Anticodon loop', 'T-arm', 'Introns']):\n",
    "        self.ss = secondaryStructure\n",
    "        self.alignedRegions = self.populateDictionary()\n",
    "        if not self.isProperShape():\n",
    "            raise Exception(self.ss, \"Non-standard tRNA shape, or fix regex\")\n",
    "        self.userInput = sequence\n",
    "        self.desiredRegions = desiredRegions\n",
    "        \n",
    "    def populateDictionary(self):\n",
    "        patterns = self.patterns\n",
    "        alignedRegions = {  'AA-stem': [],\n",
    "                            'D-arm': [],\n",
    "                            'Anticodon loop': [],\n",
    "                            'Introns': [],\n",
    "                            'T-arm': []\n",
    "                         }\n",
    "        \n",
    "        for n, pattern in enumerate(patterns):\n",
    "            #loops through the different regular expression patterns\n",
    "            matches = pattern.finditer(self.ss)\n",
    "\n",
    "            for matchNum, match in enumerate(matches):\n",
    "                #loops through each match to the pattern\n",
    "                if n==0 or n==1:\n",
    "                    alignedRegions['AA-stem'].append( match.span() )\n",
    "                elif n==2:\n",
    "                    if matchNum==0:\n",
    "                        alignedRegions['D-arm'].append( match.span() )\n",
    "                    elif matchNum==1:\n",
    "                        alignedRegions['Anticodon loop'].append( match.span() )\n",
    "                    else:\n",
    "                        alignedRegions['T-arm'].append( match.span() )\n",
    "                else:\n",
    "                    alignedRegions['Introns'].append( match.span() )\n",
    "        \n",
    "        return alignedRegions\n",
    "    \n",
    "    def isProperShape(self):\n",
    "        '''Returns True if the dictionary has the proper shape of a tRNA'''\n",
    "        ar = self.alignedRegions\n",
    "        a = len( ar['AA-stem'] ) == 2\n",
    "        b = len( ar['D-arm'] ) == 1\n",
    "        c = len( ar['Anticodon loop'] ) == 1\n",
    "        d = len( ar['T-arm'] ) == 1\n",
    "        \n",
    "        return a and b and c and d\n",
    "\n",
    "    def converted2N(self):\n",
    "        '''Returns a new fasta string, where every character is replaced by N'''\n",
    "        newSequence = ''\n",
    "        for n, letter in enumerate(self.userInput):\n",
    "            if letter.isalpha():\n",
    "                newSequence += \"N\"\n",
    "            else:\n",
    "                newSequence += \"-\"\n",
    "        return newSequence\n",
    "                \n",
    " \n",
    "    def getDesiredRanges(self):\n",
    "        '''Returns list of the ranges where we dont want just N'''\n",
    "        ranges = []\n",
    "        for rang in self.desiredRegions:\n",
    "            ranges.extend( self.alignedRegions[rang] )\n",
    "        return ranges\n",
    "    \n",
    "    def getWindowedSequence(self):\n",
    "        newSequence = self.converted2N()\n",
    "        for rang in self.getDesiredRanges():\n",
    "            for position in range(rang[0], rang[1]):\n",
    "                newSequence = newSequence[:position] + self.userInput[position] + newSequence[position+1:]\n",
    "        return newSequence"
   ]
  },
  {
   "cell_type": "code",
   "execution_count": 210,
   "metadata": {},
   "outputs": [],
   "source": [
    "sacc = \"GGGCGUGUGGCGUAGUcGGU--AGCGCGCUCCCUUAGCAUGGGAGAG-----------GU\\\n",
    "CUCCGGUUCGAUUCCGGACUCGUCCA\"\n",
    "\n",
    "yarrowia = \"GGGCGUCUGGUGUAGUuGGU-UAUCACAUGCGCUUAGCA---------------------\\\n",
    "----------------------------UGCGCGAG----------GUCCCCGGUUCGAU\\\n",
    "UCCGGUGUCGUCCA\"\n",
    "\n",
    "windowmaker = CreateWindows( example_structures[0], sequence=sacc, desiredRegions=['AA-stem', \"T-arm\"] )\n",
    "windowmaker2 = CreateWindows( example_structures[1], sequence=yarrowia, desiredRegions=['AA-stem', \"T-arm\"] )"
   ]
  },
  {
   "cell_type": "markdown",
   "metadata": {},
   "source": [
    "input --> convert all to N and dash --> fill in designated regions with letters"
   ]
  },
  {
   "cell_type": "code",
   "execution_count": 211,
   "metadata": {},
   "outputs": [
    {
     "data": {
      "text/plain": [
       "'GGGCGUGUGNNNNNNNNNNN--NNNNNNNNNNNNNNNNNNNNNNNNN-----------NNNUCCGGUUCGAUUCCGGACUCGUCCA'"
      ]
     },
     "execution_count": 211,
     "metadata": {},
     "output_type": "execute_result"
    }
   ],
   "source": [
    "windowmaker.getWindowedSequence()"
   ]
  },
  {
   "cell_type": "code",
   "execution_count": 212,
   "metadata": {},
   "outputs": [
    {
     "data": {
      "text/plain": [
       "'GGGCGUCUGNNNNNNNNNNN-NNNNNNNNNNNNNNNNNN-------------------------------------------------NNNNNNNN----------NNNCCCGGUUCGAUUCCGGUGUCGUCCA'"
      ]
     },
     "execution_count": 212,
     "metadata": {},
     "output_type": "execute_result"
    }
   ],
   "source": [
    "windowmaker2.getWindowedSequence()"
   ]
  },
  {
   "cell_type": "code",
   "execution_count": 214,
   "metadata": {},
   "outputs": [
    {
     "ename": "Exception",
     "evalue": "('(((((((,,<<<<___.___.__>>>>,<<<<<_______>>>>>,,...........,,,))))))):', 'Non-standard tRNA shape, or fix regex')",
     "output_type": "error",
     "traceback": [
      "\u001b[1;31m---------------------------------------------------------------------------\u001b[0m",
      "\u001b[1;31mException\u001b[0m                                 Traceback (most recent call last)",
      "\u001b[1;32m<ipython-input-214-d3db9b753148>\u001b[0m in \u001b[0;36m<module>\u001b[1;34m\u001b[0m\n\u001b[1;32m----> 1\u001b[1;33m \u001b[0merror\u001b[0m \u001b[1;33m=\u001b[0m \u001b[0mCreateWindows\u001b[0m\u001b[1;33m(\u001b[0m\u001b[0mexample_structures\u001b[0m\u001b[1;33m[\u001b[0m\u001b[1;36m2\u001b[0m\u001b[1;33m]\u001b[0m\u001b[1;33m,\u001b[0m \u001b[0msequence\u001b[0m\u001b[1;33m=\u001b[0m\u001b[0msacc\u001b[0m\u001b[1;33m)\u001b[0m\u001b[1;33m\u001b[0m\u001b[1;33m\u001b[0m\u001b[0m\n\u001b[0m",
      "\u001b[1;32m<ipython-input-209-9582db9efc34>\u001b[0m in \u001b[0;36m__init__\u001b[1;34m(self, secondaryStructure, sequence, desiredRegions)\u001b[0m\n\u001b[0;32m     13\u001b[0m         \u001b[0mself\u001b[0m\u001b[1;33m.\u001b[0m\u001b[0malignedRegions\u001b[0m \u001b[1;33m=\u001b[0m \u001b[0mself\u001b[0m\u001b[1;33m.\u001b[0m\u001b[0mpopulateDictionary\u001b[0m\u001b[1;33m(\u001b[0m\u001b[1;33m)\u001b[0m\u001b[1;33m\u001b[0m\u001b[1;33m\u001b[0m\u001b[0m\n\u001b[0;32m     14\u001b[0m         \u001b[1;32mif\u001b[0m \u001b[1;32mnot\u001b[0m \u001b[0mself\u001b[0m\u001b[1;33m.\u001b[0m\u001b[0misProperShape\u001b[0m\u001b[1;33m(\u001b[0m\u001b[1;33m)\u001b[0m\u001b[1;33m:\u001b[0m\u001b[1;33m\u001b[0m\u001b[1;33m\u001b[0m\u001b[0m\n\u001b[1;32m---> 15\u001b[1;33m             \u001b[1;32mraise\u001b[0m \u001b[0mException\u001b[0m\u001b[1;33m(\u001b[0m\u001b[0mself\u001b[0m\u001b[1;33m.\u001b[0m\u001b[0mss\u001b[0m\u001b[1;33m,\u001b[0m \u001b[1;34m\"Non-standard tRNA shape, or fix regex\"\u001b[0m\u001b[1;33m)\u001b[0m\u001b[1;33m\u001b[0m\u001b[1;33m\u001b[0m\u001b[0m\n\u001b[0m\u001b[0;32m     16\u001b[0m         \u001b[0mself\u001b[0m\u001b[1;33m.\u001b[0m\u001b[0muserInput\u001b[0m \u001b[1;33m=\u001b[0m \u001b[0msequence\u001b[0m\u001b[1;33m\u001b[0m\u001b[1;33m\u001b[0m\u001b[0m\n\u001b[0;32m     17\u001b[0m         \u001b[0mself\u001b[0m\u001b[1;33m.\u001b[0m\u001b[0mdesiredRegions\u001b[0m \u001b[1;33m=\u001b[0m \u001b[0mdesiredRegions\u001b[0m\u001b[1;33m\u001b[0m\u001b[1;33m\u001b[0m\u001b[0m\n",
      "\u001b[1;31mException\u001b[0m: ('(((((((,,<<<<___.___.__>>>>,<<<<<_______>>>>>,,...........,,,))))))):', 'Non-standard tRNA shape, or fix regex')"
     ]
    }
   ],
   "source": [
    "error = CreateWindows(example_structures[2], sequence=sacc)"
   ]
  },
  {
   "cell_type": "code",
   "execution_count": null,
   "metadata": {},
   "outputs": [],
   "source": []
  },
  {
   "cell_type": "code",
   "execution_count": null,
   "metadata": {},
   "outputs": [],
   "source": []
  }
 ],
 "metadata": {
  "kernelspec": {
   "display_name": "Python 3",
   "language": "python",
   "name": "python3"
  },
  "language_info": {
   "codemirror_mode": {
    "name": "ipython",
    "version": 3
   },
   "file_extension": ".py",
   "mimetype": "text/x-python",
   "name": "python",
   "nbconvert_exporter": "python",
   "pygments_lexer": "ipython3",
   "version": "3.8.3"
  }
 },
 "nbformat": 4,
 "nbformat_minor": 4
}
