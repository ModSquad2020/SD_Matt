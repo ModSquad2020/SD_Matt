{
 "cells": [
  {
   "cell_type": "markdown",
   "metadata": {},
   "source": [
    "To work this needs the \n",
    "- Secondary structure of aligned tRNAs.\n",
    "- Aligned tRNAs\n",
    "- User specified sections (for now)\n"
   ]
  },
  {
   "cell_type": "code",
   "execution_count": 1,
   "metadata": {},
   "outputs": [],
   "source": [
    "import re"
   ]
  },
  {
   "cell_type": "markdown",
   "metadata": {},
   "source": [
    "# Incredibly vital regular expressions that <br>pick up the different portions of the tRNA\n",
    "\n",
    "- startAA\n",
    "- endAA\n",
    "- loops\n",
    "- introns"
   ]
  },
  {
   "cell_type": "code",
   "execution_count": 129,
   "metadata": {},
   "outputs": [],
   "source": [
    "example_structures = ['(((((((,,<<<<___.___.__>>>>,<<<<<_______>>>>>,,...........,,,<<<<<_______>>>>>))))))):',\n",
    "                      '(((((((,,<<<<___.___.__>>>>,<<<<<______................................................._>>>>>,,..........,,,<<<<<_______>>>>>))))))):'\n",
    "                        ]\n",
    "startAA = re.compile(r'\\(+[^<>]{0,}')#r'\\(+.{0,}?<'\n",
    "\n",
    "endAA = re.compile(r'\\)+:')#r'.{1}\\)+'\n",
    "\n",
    "loops = re.compile(r'<+.{3,}?>+')\n",
    "\n",
    "introns = re.compile(r'[^<>]*\\.{3,}[^<>]*')\n",
    "\n",
    "\n",
    "patterns = [startAA,\n",
    "            endAA,\n",
    "            loops,\n",
    "            introns\n",
    "            \n",
    "            ]\n",
    "\n"
   ]
  },
  {
   "cell_type": "markdown",
   "metadata": {},
   "source": [
    "# The dictionary of lists that is populated by the spans\n",
    "\n",
    "## Intended use\n",
    "User says they want D-arm and T-arm regions.\n",
    "The code loops through turning each region\n",
    "NNN, unless it was specified then it leaves\n",
    "the sequence alone.\n",
    "\n",
    "## Example\n",
    "method('se--quence', 'T-arm', 'D-arm')  \n",
    "\n",
    "'se--quence'  \n",
    "\n",
    "'NN--quence'\n",
    "\n",
    "'NN--quNNce'"
   ]
  },
  {
   "cell_type": "code",
   "execution_count": 168,
   "metadata": {},
   "outputs": [],
   "source": [
    "alignedRegions = {  'AA-stem': [],\n",
    "                    'D-arm': [],\n",
    "                    'Anticodon loop': [],\n",
    "                    'Introns': [],\n",
    "                    'T-arm': []\n",
    "                 }"
   ]
  },
  {
   "cell_type": "markdown",
   "metadata": {},
   "source": [
    "## Actually populates the dictionary"
   ]
  },
  {
   "cell_type": "code",
   "execution_count": 169,
   "metadata": {},
   "outputs": [],
   "source": [
    "for n, pattern in enumerate(patterns):\n",
    "    #loops through the different regular expression patterns\n",
    "    matches = pattern.finditer(example_structures[1])\n",
    "    \n",
    "    for matchNum, match in enumerate(matches):\n",
    "        #loops through each match to the pattern\n",
    "        if n==0 or n==1:\n",
    "            alignedRegions['AA-stem'].append( match.span() )\n",
    "        elif n==2:\n",
    "            if matchNum==0:\n",
    "                alignedRegions['D-arm'].append( match.span() )\n",
    "            elif matchNum==1:\n",
    "                alignedRegions['Anticodon loop'].append( match.span() )\n",
    "            else:\n",
    "                alignedRegions['T-arm'].append( match.span() )\n",
    "        else:\n",
    "            alignedRegions['Introns'].append( match.span() )\n",
    "        \n",
    "            \n"
   ]
  },
  {
   "cell_type": "code",
   "execution_count": 170,
   "metadata": {},
   "outputs": [
    {
     "name": "stdout",
     "output_type": "stream",
     "text": [
      "{'AA-stem': [(0, 9), (126, 134)], 'D-arm': [(9, 27)], 'Anticodon loop': [(28, 94)], 'Introns': [(33, 89), (94, 109)], 'T-arm': [(109, 126)]}\n"
     ]
    }
   ],
   "source": [
    "print(alignedRegions)"
   ]
  },
  {
   "cell_type": "code",
   "execution_count": null,
   "metadata": {},
   "outputs": [],
   "source": []
  },
  {
   "cell_type": "code",
   "execution_count": null,
   "metadata": {},
   "outputs": [],
   "source": []
  }
 ],
 "metadata": {
  "kernelspec": {
   "display_name": "Python 3",
   "language": "python",
   "name": "python3"
  },
  "language_info": {
   "codemirror_mode": {
    "name": "ipython",
    "version": 3
   },
   "file_extension": ".py",
   "mimetype": "text/x-python",
   "name": "python",
   "nbconvert_exporter": "python",
   "pygments_lexer": "ipython3",
   "version": "3.8.3"
  }
 },
 "nbformat": 4,
 "nbformat_minor": 4
}
