{
 "cells": [
  {
   "cell_type": "code",
   "execution_count": 17,
   "metadata": {},
   "outputs": [],
   "source": [
    "import csv\n",
    "import sys\n",
    "sys.path.insert(1, '../mattstuff')"
   ]
  },
  {
   "cell_type": "code",
   "execution_count": 18,
   "metadata": {},
   "outputs": [],
   "source": [
    "csv.list_dialects()\n",
    "filename = 'sacCer_column.csv'"
   ]
  },
  {
   "cell_type": "code",
   "execution_count": null,
   "metadata": {},
   "outputs": [
    {
     "name": "stdout",
     "output_type": "stream",
     "text": [
      ">tRNA-Ala-AGC-1\n",
      "-GGGCGUGUGGCGUAGUC-GGU--AGCGCGCUCCCUUAGCAUGGGAGAG-------------------GUCUCCGGUUCGAUUCCGGA----CUCGUCCACCA\n",
      "\n",
      ">tRNA-Ala-TGC-1\n",
      "-GGGCACAUGGCGCAGUU-GGU--AGCGCGCUUCCCUUGCAAGGAAGAG-------------------GUCAUCGGUUCGAUUCCGGU----UGCGUCCACCA\n",
      "\n",
      ">tRNA-Arg-ACG-1\n",
      "-UUCCUCGUGGCCCAAU--GGUC-ACGGCGUCUGGCUACGAACCAGAAG-------------------AUUCCAGGUUCAAGUCCUGG----CGGGGAAGCCA\n",
      "\n",
      ">tRNA-Arg-ACG-2\n",
      "-UUCCUCGUGGCCCAAU--GGUC-ACGGCGUCUGGCUACGAACCAGGAG-------------------AUUCCAGGUUCGAGUCCUGG----CGGGGAAGCCA\n",
      "\n",
      ">tRNA-Arg-CCG-1\n",
      "-GCUCCUCUAGUGCAAU--GGUU-AGCAUGCAUUCUUCCGGUGGCUGUG-------------------A-UCCGGGUUCGAGUCCCGG----GAGGAGCUCCA\n",
      "\n",
      ">tRNA-Arg-CCT-1\n",
      "-GUUCCGUUGGCGUAAU--GGU--AACGCGUCUCCCUCCUAAGGAGAAG-------------------ACUGCGGGUUCGAGUCCCGU----ACGGAACGCCA\n",
      "\n",
      ">tRNA-Arg-TCT-1\n",
      "-GCUCGCGUGGCGUAAU--GGC--AACGCGUCUGACUUCUAAUCAGAAG-------------------AUUAUGGGUUCGACCCCCAU----CGUGAGUGCCA\n"
     ]
    }
   ],
   "source": [
    "with open(filename) as csvfile:\n",
    "    reader = csv.reader(csvfile, delimiter=',')\n",
    "    reader.__next__()\n",
    "    for line in reader:\n",
    "        print(f'>{line[0]}\\n{\"\".join(line[2:])}')\n",
    "        input()"
   ]
  },
  {
   "cell_type": "code",
   "execution_count": null,
   "metadata": {},
   "outputs": [],
   "source": [
    "with open(\"sCere_tRNA_modomics.csv\") as csvfile:\n",
    "    reader = csv.reader(csvfile, delimiter=',')\n",
    "    for line in csvfile:\n",
    "        print(line)"
   ]
  },
  {
   "cell_type": "code",
   "execution_count": null,
   "metadata": {},
   "outputs": [],
   "source": []
  }
 ],
 "metadata": {
  "kernelspec": {
   "display_name": "Python 3",
   "language": "python",
   "name": "python3"
  },
  "language_info": {
   "codemirror_mode": {
    "name": "ipython",
    "version": 3
   },
   "file_extension": ".py",
   "mimetype": "text/x-python",
   "name": "python",
   "nbconvert_exporter": "python",
   "pygments_lexer": "ipython3",
   "version": "3.8.3"
  }
 },
 "nbformat": 4,
 "nbformat_minor": 4
}
