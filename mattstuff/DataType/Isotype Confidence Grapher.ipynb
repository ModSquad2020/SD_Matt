{
 "cells": [
  {
   "cell_type": "code",
   "execution_count": 105,
   "metadata": {},
   "outputs": [],
   "source": [
    "import pandas as pd\n",
    "\n",
    "pd.set_option('display.max_columns', None)\n",
    "pd.set_option('display.max_rows', None)\n",
    "pd.set_option('display.max_colwidth', None)\n",
    "\n",
    "df = pd.read_csv('SaccMerged.csv', delimiter=',')"
   ]
  },
  {
   "cell_type": "markdown",
   "metadata": {},
   "source": [
    "# A whole bunch of filters for SaccMerged"
   ]
  },
  {
   "cell_type": "code",
   "execution_count": 120,
   "metadata": {},
   "outputs": [],
   "source": [
    "#Gives us the rows based on whether it is modomics annotated (true pos/neg)\n",
    "trueNegativeFilter = df['Unaligned Sequence'].isnull()\n",
    "truePositiveFilter = df['Unaligned Sequence'].notnull()\n",
    "\n",
    "#Filters based on tRNA\n",
    "tRNA = 'Cys'\n",
    "tRNAFilter = df['Isotype'] == tRNA\n",
    "\n",
    "#Filters rows on whether posScore>negScore vice versa\n",
    "calledPosFilter = df['pos eVal'] < df['neg eVal']\n",
    "calledNegFilter = df['pos eVal'] > df['neg eVal']\n",
    "\n",
    "#Filter on modification\n",
    "mod = 'm1A'\n",
    "modFilter = df['Modification_x'] == mod"
   ]
  },
  {
   "cell_type": "code",
   "execution_count": 123,
   "metadata": {},
   "outputs": [
    {
     "data": {
      "text/plain": [
       "(25, 26)"
      ]
     },
     "execution_count": 123,
     "metadata": {},
     "output_type": "execute_result"
    }
   ],
   "source": [
    "#Combo filters\n",
    "true_pos_called_pos = [a&b&c&d for a,b,c,d in zip(tRNAFilter, truePositiveFilter, calledPosFilter, modFilter)]\n",
    "df[true_pos_called_pos].shape"
   ]
  },
  {
   "cell_type": "code",
   "execution_count": 107,
   "metadata": {},
   "outputs": [],
   "source": [
    "#Combo filters\n",
    "true_pos_called_pos = [a&b&c&d for a,b,c,d in zip(tRNAFilter, truePositiveFilter, calledPosFilter, modFilter)]\n"
   ]
  },
  {
   "cell_type": "code",
   "execution_count": 117,
   "metadata": {},
   "outputs": [],
   "source": [
    "true_pos_called_neg = [a&b&c&d for a,b,c,d in zip(tRNAFilter, truePositiveFilter, calledNegFilter, modFilter)]\n"
   ]
  },
  {
   "cell_type": "markdown",
   "metadata": {},
   "source": [
    "# Pseudo code: \n",
    "I want the counts, gotten from the .shape()[0] of the quad filter to be normalized by dividing by the same value gotten from the bifilter.\n",
    "\n",
    "Need to loop through each isotype getting 4 numbers\n",
    "* True positive called negative -- quad\n",
    "* True positive called positive -- quad\n",
    "* Total numbers -- bi\n",
    "* The ratios of the first two and the total"
   ]
  },
  {
   "cell_type": "code",
   "execution_count": 124,
   "metadata": {},
   "outputs": [],
   "source": [
    "# List of isotypes\n",
    "listOfIsotypes = ['Ala', 'Arg', 'Asn', 'Asp', 'Cys', 'Gln',\n",
    " 'Glu', 'Gly', 'His', 'Ile', 'Leu', 'Lys', 'Met', 'Phe',\n",
    " 'Pro', 'Pyr', 'Sec', 'Ser', 'Thr', 'Trp', 'Tyr', 'Val',\n",
    " 'iMet', None]"
   ]
  },
  {
   "cell_type": "code",
   "execution_count": 125,
   "metadata": {},
   "outputs": [
    {
     "name": "stdout",
     "output_type": "stream",
     "text": [
      "Ala NA\n",
      "Arg 0.9361702127659575 0.06382978723404255\n",
      "Asn 1.0 0.0\n",
      "Asp NA\n",
      "Cys 1.0 0.0\n",
      "Gln NA\n",
      "Glu NA\n",
      "Gly NA\n",
      "His NA\n",
      "Ile 0.9629629629629629 0.037037037037037035\n",
      "Leu 0.32 0.68\n",
      "Lys 0.9636363636363636 0.03636363636363636\n",
      "Met 1.0 0.0\n",
      "Phe 1.0 0.0\n",
      "Pro 0.8666666666666667 0.13333333333333333\n",
      "Pyr NA\n",
      "Sec NA\n",
      "Ser 0.06896551724137931 0.9310344827586207\n",
      "Thr 1.0 0.0\n",
      "Trp 0.9285714285714286 0.07142857142857142\n",
      "Tyr 1.0 0.0\n",
      "Val 0.7105263157894737 0.2894736842105263\n",
      "iMet 1.0 0.0\n",
      "None NA\n"
     ]
    }
   ],
   "source": [
    "sum = 0\n",
    "for isotype in listOfIsotypes:\n",
    "    tRNAFilter = df['Isotype'] == isotype\n",
    "    true_pos_called_pos = [a&b&c&d for a,b,c,d in zip(tRNAFilter, truePositiveFilter, calledPosFilter, modFilter)]\n",
    "    true_pos_called_neg = [a&b&c&d for a,b,c,d in zip(tRNAFilter, truePositiveFilter, calledNegFilter, modFilter)]\n",
    "\n",
    "    firstValue = df[true_pos_called_neg].shape[0]\n",
    "    secondValue = df[true_pos_called_pos].shape[0]\n",
    "    thirdValue = firstValue + secondValue\n",
    "    \n",
    "    if thirdValue:\n",
    "        correctlyCalled = secondValue/thirdValue\n",
    "        incorrectlyCalled = firstValue/thirdValue\n",
    "    \n",
    "        print(isotype, correctlyCalled, incorrectlyCalled)\n",
    "    else:\n",
    "        print(isotype, 'NA')\n"
   ]
  },
  {
   "cell_type": "code",
   "execution_count": 98,
   "metadata": {},
   "outputs": [
    {
     "data": {
      "text/plain": [
       "(0, 26)"
      ]
     },
     "execution_count": 98,
     "metadata": {},
     "output_type": "execute_result"
    }
   ],
   "source": []
  },
  {
   "cell_type": "code",
   "execution_count": null,
   "metadata": {},
   "outputs": [],
   "source": []
  }
 ],
 "metadata": {
  "kernelspec": {
   "display_name": "Python 3",
   "language": "python",
   "name": "python3"
  },
  "language_info": {
   "codemirror_mode": {
    "name": "ipython",
    "version": 3
   },
   "file_extension": ".py",
   "mimetype": "text/x-python",
   "name": "python",
   "nbconvert_exporter": "python",
   "pygments_lexer": "ipython3",
   "version": "3.8.3"
  }
 },
 "nbformat": 4,
 "nbformat_minor": 4
}
