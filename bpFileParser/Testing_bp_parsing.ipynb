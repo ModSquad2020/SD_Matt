{
 "cells": [
  {
   "cell_type": "markdown",
   "metadata": {},
   "source": [
    "Might use this technique [here](https://stackoverflow.com/questions/49138587/find-all-parentheses-in-a-string-by-pairs-python-3) in order to create some code that can pick the matching basepairs given the bp or range of bp that are in nested bp format (gtRNAdb).\n",
    "\n",
    "Example:<br>>>>>...<..<<<<br>\n",
    "         1234---4--321\n",
    "<br>in: 0 out: 12<br>\n",
    "in: 3 out: 7\n",
    "\n",
    "\n",
    "Harder example:<br>\n",
    ":>>>>>>>..>>>>........<<<<.>>>>>.......<<<<<.....>>>>>.......<<<<<<<<<<<<....<br>\n",
    " 1234567--89!@--------@!98-89!@#-------#@!98-----89!@#-------#@!987654321---- 76 bp\n",
    "\n",
    "in: 1-7 out 65-71"
   ]
  },
  {
   "cell_type": "code",
   "execution_count": null,
   "metadata": {},
   "outputs": [],
   "source": []
  }
 ],
 "metadata": {
  "kernelspec": {
   "display_name": "Python 3",
   "language": "python",
   "name": "python3"
  },
  "language_info": {
   "codemirror_mode": {
    "name": "ipython",
    "version": 3
   },
   "file_extension": ".py",
   "mimetype": "text/x-python",
   "name": "python",
   "nbconvert_exporter": "python",
   "pygments_lexer": "ipython3",
   "version": "3.8.6"
  }
 },
 "nbformat": 4,
 "nbformat_minor": 4
}
