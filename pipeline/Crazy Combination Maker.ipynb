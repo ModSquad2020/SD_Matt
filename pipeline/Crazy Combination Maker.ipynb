{
 "cells": [
  {
   "cell_type": "code",
   "execution_count": 132,
   "metadata": {},
   "outputs": [],
   "source": [
    "def generateCombinations():\n",
    "    '''Returns a list of all combinations of the desiredRegions'''\n",
    "    desiredRegions = ['A', 'B', 'C', 'D']\n",
    "    #print('start', desiredRegions)\n",
    "    \n",
    "    combinations = []\n",
    "    for i in range( len(desiredRegions)):\n",
    "        division = []\n",
    "        for j in range(i+1, len(desiredRegions)+1):\n",
    "            goingForward = desiredRegions[i:j]\n",
    "            division.append( goingForward )\n",
    "        \n",
    "        culmination=[]\n",
    "        collection = division\n",
    "        import copy\n",
    "        for column in range(1, len(collection)):\n",
    "            thing = copy.deepcopy(collection)\n",
    "            culmination.extend(generateSub(copy.deepcopy(collection), thing, column) )\n",
    "        combinations.extend( cleanSub(collection, culmination) )\n",
    "        \n",
    "    return combinations"
   ]
  },
  {
   "cell_type": "code",
   "execution_count": 133,
   "metadata": {},
   "outputs": [
    {
     "name": "stdout",
     "output_type": "stream",
     "text": [
      "[['A', 'C'], ['A', 'C', 'D'], ['A', 'D'], ['A', 'B', 'D'], ['A'], ['A', 'B'], ['A', 'B', 'C'], ['A', 'B', 'C', 'D'], ['B', 'D'], ['B'], ['B', 'C'], ['B', 'C', 'D'], ['C'], ['C', 'D'], ['D']]\n"
     ]
    }
   ],
   "source": [
    "print( generateCombinations() ) "
   ]
  },
  {
   "cell_type": "code",
   "execution_count": 107,
   "metadata": {},
   "outputs": [
    {
     "name": "stdout",
     "output_type": "stream",
     "text": [
      "['A']\n",
      "['A', 'B']\n",
      "['A', 'B', 'C']\n",
      "['A', 'B', 'C', 'D']\n"
     ]
    }
   ],
   "source": [
    "collection = [['A'], ['A', 'B'], ['A', 'B', 'C'], ['A', 'B', 'C', 'D']]\n",
    "for item in collection:\n",
    "    print(item)"
   ]
  },
  {
   "cell_type": "code",
   "execution_count": 29,
   "metadata": {},
   "outputs": [
    {
     "name": "stdout",
     "output_type": "stream",
     "text": [
      "[['A'], ['A', 'B'], ['A', 'B', 'C'], ['A', 'B', 'C', 'D'], ['A', 'C'], ['A', 'C', 'D'], ['A', 'D']]\n"
     ]
    }
   ],
   "source": [
    "import copy\n",
    "CrazyCombination = copy.deepcopy(collection)\n",
    "def generateSub(collection):\n",
    "    base = True\n",
    "    for item in collection:\n",
    "        if len(item) > 1:\n",
    "            base=False\n",
    "            item.pop(1)\n",
    "    \n",
    "    cleanCollection = []\n",
    "    for item in collection:\n",
    "        if len(item) == 1:\n",
    "            pass\n",
    "        else:\n",
    "            cleanCollection.append(item)\n",
    "\n",
    "    if base:\n",
    "        return CrazyCombination\n",
    "    else: \n",
    "        CrazyCombination.extend(copy.deepcopy( cleanCollection ))\n",
    "        return generateSub( collection )\n",
    "    \n",
    "print( generateSub(collection) )"
   ]
  },
  {
   "cell_type": "markdown",
   "metadata": {},
   "source": [
    "# Works but is missing important stuff\n",
    "gets rid of 2nd column, but doesn't consider 3rd, 4th, etc"
   ]
  },
  {
   "cell_type": "code",
   "execution_count": 56,
   "metadata": {},
   "outputs": [
    {
     "name": "stdout",
     "output_type": "stream",
     "text": [
      "[['A'], ['A', 'B'], ['A', 'B', 'C'], ['A', 'B', 'C', 'D']]f\n",
      "[['A'], ['A'], ['A', 'C'], ['A', 'C', 'D']]f\n",
      "[['A'], ['A'], ['A'], ['A', 'D']]f\n",
      "[['A'], ['A'], ['A'], ['A']]f\n",
      "\n",
      "\n",
      " [['A'], ['A', 'B'], ['A', 'B', 'C'], ['A', 'B', 'C', 'D'], ['A', 'C'], ['A', 'C', 'D'], ['A', 'D']]\n"
     ]
    }
   ],
   "source": [
    "def generateSub(original, collection):\n",
    "    '''Given a combination and a deepcopied version'''\n",
    "    base = True\n",
    "    input(collection)\n",
    "    for item in collection:\n",
    "        if len(item) > 1:#pop the 2nd column\n",
    "            base=False\n",
    "            item.pop(1)\n",
    "    \n",
    "    cleanCollection = []\n",
    "    for item in collection:#get rid of the top rows\n",
    "        if len(item) == 1:\n",
    "            pass\n",
    "        else:\n",
    "            cleanCollection.append(item)\n",
    "\n",
    "    if base:\n",
    "        return original\n",
    "    else: \n",
    "        original.extend(copy.deepcopy( cleanCollection ))\n",
    "        return generateSub( original, collection )\n",
    "    \n",
    "print( '\\n\\n', generateSub(copy.deepcopy(collection), collection) )"
   ]
  },
  {
   "cell_type": "markdown",
   "metadata": {},
   "source": [
    "# Somewhat works\n",
    "Returns a good output, except there is redundant original stuff that I want to get rid of. Put a bandaid on it by using the CleanSub() method.\n",
    "\n"
   ]
  },
  {
   "cell_type": "code",
   "execution_count": 126,
   "metadata": {},
   "outputs": [
    {
     "data": {
      "text/plain": [
       "[['A'],\n",
       " ['A', 'B'],\n",
       " ['A', 'B', 'C'],\n",
       " ['A', 'B', 'C', 'D'],\n",
       " ['A', 'C'],\n",
       " ['A', 'C', 'D'],\n",
       " ['A', 'D'],\n",
       " ['A'],\n",
       " ['A', 'B'],\n",
       " ['A', 'B', 'C'],\n",
       " ['A', 'B', 'C', 'D'],\n",
       " ['A', 'B', 'D'],\n",
       " ['A'],\n",
       " ['A', 'B'],\n",
       " ['A', 'B', 'C'],\n",
       " ['A', 'B', 'C', 'D']]"
      ]
     },
     "execution_count": 126,
     "metadata": {},
     "output_type": "execute_result"
    }
   ],
   "source": [
    "def generateSub(original, collection, i):\n",
    "    '''Given a combination and a deepcopied version, wrapped in a for loop\n",
    "    ranging from 1, len(collection) for i'''\n",
    "    base = True\n",
    "    for item in collection:\n",
    "        if len(item) > i:#pop the 2nd column\n",
    "            base=False\n",
    "            item.pop(i)\n",
    "\n",
    "    cleanCollection = []\n",
    "    for item in collection:#get rid of the top rows\n",
    "        if len(item) <= i:\n",
    "            pass\n",
    "        else:\n",
    "            cleanCollection.append(item)\n",
    "\n",
    "    if base:\n",
    "        return original\n",
    "    else: \n",
    "        original.extend(copy.deepcopy( cleanCollection ))\n",
    "        return generateSub( original, collection, i )\n",
    "    \n",
    "og = collection\n",
    "culmination=[]\n",
    "for column in range(1, len(collection)):\n",
    "    thing = copy.deepcopy(collection)\n",
    "    culmination.extend(generateSub(copy.deepcopy(collection), thing, column) )\n",
    "culmination"
   ]
  },
  {
   "cell_type": "code",
   "execution_count": 127,
   "metadata": {},
   "outputs": [
    {
     "data": {
      "text/plain": [
       "[['A', 'C'],\n",
       " ['A', 'C', 'D'],\n",
       " ['A', 'D'],\n",
       " ['A', 'B', 'D'],\n",
       " ['A'],\n",
       " ['A', 'B'],\n",
       " ['A', 'B', 'C'],\n",
       " ['A', 'B', 'C', 'D']]"
      ]
     },
     "execution_count": 127,
     "metadata": {},
     "output_type": "execute_result"
    }
   ],
   "source": [
    "def cleanSub(original, culmination):\n",
    "    for item in original:\n",
    "        for item2 in culmination:\n",
    "            if item == item2:\n",
    "                culmination.remove(item)\n",
    "    culmination.extend(original)\n",
    "        \n",
    "    return culmination\n",
    "cleanSub(og, culmination)"
   ]
  },
  {
   "cell_type": "code",
   "execution_count": null,
   "metadata": {},
   "outputs": [],
   "source": []
  }
 ],
 "metadata": {
  "kernelspec": {
   "display_name": "Python 3",
   "language": "python",
   "name": "python3"
  },
  "language_info": {
   "codemirror_mode": {
    "name": "ipython",
    "version": 3
   },
   "file_extension": ".py",
   "mimetype": "text/x-python",
   "name": "python",
   "nbconvert_exporter": "python",
   "pygments_lexer": "ipython3",
   "version": "3.8.3"
  }
 },
 "nbformat": 4,
 "nbformat_minor": 4
}
